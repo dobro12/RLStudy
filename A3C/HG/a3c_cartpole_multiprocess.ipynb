{
 "cells": [
  {
   "cell_type": "code",
   "execution_count": 1,
   "metadata": {},
   "outputs": [],
   "source": [
    "import os\n",
    "import numpy as np\n",
    "from matplotlib import pyplot as plt\n",
    "\n",
    "import gym\n",
    "\n",
    "import torch\n",
    "import torch.nn as nn\n",
    "import torch.nn.functional as F\n",
    "import torch.optim as optim\n",
    "import torch.multiprocessing as mp"
   ]
  },
  {
   "cell_type": "code",
   "execution_count": 2,
   "metadata": {},
   "outputs": [],
   "source": [
    "gym.logger.set_level(40)"
   ]
  },
  {
   "cell_type": "code",
   "execution_count": 3,
   "metadata": {
    "scrolled": false
   },
   "outputs": [],
   "source": [
    "ENV_NAME = 'CartPole-v0'\n",
    "input_dim = 4\n",
    "action_list = [0,1]"
   ]
  },
  {
   "cell_type": "code",
   "execution_count": 4,
   "metadata": {},
   "outputs": [],
   "source": [
    "class A3C(nn.Module):\n",
    "    def __init__(self, input_dim, action_dim, max_ep=0, is_global=False):\n",
    "        super(A3C, self).__init__()\n",
    "        self.input_dim = input_dim\n",
    "        self.action_dim = action_dim\n",
    "        self.max_ep = max_ep\n",
    "        \n",
    "        self.fc1 = nn.Linear(input_dim, 128)\n",
    "        self.fc2 = nn.Linear(128, 128)\n",
    "        self.fc3 = nn.Linear(128, action_dim)\n",
    "        self.fc4 = nn.Linear(128, 1)\n",
    "        \n",
    "        self.ep_counter = None\n",
    "        self.ep_returns = None\n",
    "        self.average_returns = None\n",
    "        \n",
    "        if is_global:\n",
    "            self.set_global()\n",
    "    \n",
    "    def forward(self, x):\n",
    "        x = F.relu(self.fc1(x))\n",
    "        x = F.relu(self.fc2(x))\n",
    "        Q = self.fc3(x)\n",
    "        V = self.fc4(x)\n",
    "        return Q, V\n",
    "    \n",
    "    def set_global(self):\n",
    "        self.ep_counter = mp.Value('i')\n",
    "        self.ep_counter.value = 0\n",
    "        self.ep_returns = mp.Array('d', self.max_ep)\n",
    "        self.average_returns = mp.Array('d',self.max_ep)\n",
    "        \n",
    "    def log_episode(self, ep_return):\n",
    "        c = self.ep_counter.value\n",
    "        self.ep_returns[c] = ep_return\n",
    "        self.average_returns[c] = np.mean(self.ep_returns[max(0, c-99):c+1])\n",
    "        self.ep_counter.value += 1\n",
    "        return self.ep_counter.value"
   ]
  },
  {
   "cell_type": "code",
   "execution_count": 5,
   "metadata": {},
   "outputs": [],
   "source": [
    "NUM_THREADS = 8\n",
    "\n",
    "#T_max = 10000\n",
    "MAX_EP = 20000\n",
    "t_max = 5\n",
    "print_freq = 1000\n",
    "\n",
    "beta = 0.01   # entropy regularization\n",
    "gamma = 0.99\n",
    "alpha = 0.99   # RMSProb decay factor\n",
    "learning_rate = 1e-4\n",
    "decay_rate = 0.996"
   ]
  },
  {
   "cell_type": "code",
   "execution_count": 6,
   "metadata": {},
   "outputs": [],
   "source": [
    "def train(lock, globalNet, optimizer, tmax, pid):\n",
    "    t = 0\n",
    "    done = False\n",
    "    ep_return = 0\n",
    "    log_episode_return = []\n",
    "    cur_ep = 0\n",
    "    \n",
    "    localNet = A3C(input_dim, len(action_list))\n",
    "    localNet.load_state_dict(globalNet.state_dict())\n",
    "    env = gym.make(ENV_NAME)\n",
    "    obs = env.reset()\n",
    "    \n",
    "    while globalNet.ep_counter.value < MAX_EP:\n",
    "        t_start = t\n",
    "        buff_value = []\n",
    "        buff_q = []\n",
    "        buff_reward = []\n",
    "        buff_logp = []\n",
    "        buff_entropy = []\n",
    "\n",
    "        while t_start-t < t_max:\n",
    "            Q, V = localNet(torch.tensor(obs.astype(np.float32)))\n",
    "            prob = F.softmax(Q, dim=0).data\n",
    "            [a] = np.random.choice(localNet.action_dim, 1, p=prob.detach().numpy())\n",
    "            log_prob = F.log_softmax(Q, dim=0)\n",
    "\n",
    "            obs, reward, done, _ = env.step(action_list[a])\n",
    "            ep_return += reward\n",
    "            entropy = -log_prob*prob.sum()\n",
    "\n",
    "            buff_q.append(Q)\n",
    "            buff_value.append(V)\n",
    "            buff_reward.append(reward)\n",
    "            buff_logp.append(log_prob[a])\n",
    "            buff_entropy.append(entropy)\n",
    "            t += 1\n",
    "            \n",
    "            if done:\n",
    "                cur_ep = globalNet.log_episode(ep_return)\n",
    "                obs = env.reset()\n",
    "                ep_return = 0\n",
    "                break\n",
    "\n",
    "        R = V if not done else 0\n",
    "        policy_loss = 0\n",
    "        value_loss = 0\n",
    "        entropy_loss = 0\n",
    "        for i in range(-1, -(t-t_start)-1, -1): #range(t-1, t_start-1, -1):\n",
    "            R = buff_reward[i] + gamma*R\n",
    "            TD = R - buff_value[i]\n",
    "            policy_loss += buff_logp[i] * TD.detach()\n",
    "            value_loss += torch.pow(TD, 2)\n",
    "            entropy_loss += buff_entropy[i].sum()\n",
    "        loss = - policy_loss + value_loss - beta*entropy_loss\n",
    "        \n",
    "        optimizer.zero_grad()\n",
    "        loss.backward()\n",
    "        lock.acquire()\n",
    "        try:\n",
    "            for local_param, global_param in zip(localNet.parameters(), globalNet.parameters()):\n",
    "                global_param.grad = local_param.grad\n",
    "            optimizer.step()\n",
    "        finally:\n",
    "            lock.release()\n",
    "        localNet.load_state_dict(globalNet.state_dict())\n",
    "        \n",
    "        if cur_ep%print_freq==0: #globalNet.ep_counter.value%100==0:\n",
    "            print('[%d] Process'%pid)\n",
    "            print('%d/%d episodes. (%.2f%%)'%(cur_ep, MAX_EP, cur_ep/MAX_EP*100))\n",
    "            #print(globalNet.ep_counter.value-1, 'episodes.')\n",
    "            print('Total loss:\\t', loss.data.numpy()[0])\n",
    "            print('Entropy\\t\\tPolicy\\t\\tValue')\n",
    "            print('%.2f\\t\\t%.2f\\t\\t%.2f'%(entropy_loss.data.numpy(), policy_loss.data.numpy()[0], \\\n",
    "                  value_loss.data.numpy()[0]))\n",
    "            print('Epside Return: [%.1f]'%globalNet.average_returns[globalNet.ep_counter.value-1])\n",
    "            print()"
   ]
  },
  {
   "cell_type": "code",
   "execution_count": 7,
   "metadata": {
    "scrolled": false
   },
   "outputs": [
    {
     "name": "stdout",
     "output_type": "stream",
     "text": [
      "[7] Process\n",
      "1000/20000 episodes. (5.00%)\n",
      "Total loss:\t 316.10135\n",
      "Entropy\t\tPolicy\t\tValue\n",
      "16.90\t\t31.52\t\t347.79\n",
      "Epside Return: [23.0]\n",
      "\n",
      "[6] Process\n",
      "2000/20000 episodes. (10.00%)\n",
      "Total loss:\t 1691.066\n",
      "Entropy\t\tPolicy\t\tValue\n",
      "20.46\t\t100.65\t\t1791.92\n",
      "Epside Return: [39.4]\n",
      "\n",
      "[7] Process\n",
      "3000/20000 episodes. (15.00%)\n",
      "Total loss:\t 66832.414\n",
      "Entropy\t\tPolicy\t\tValue\n",
      "182.72\t\t-921.90\t\t65912.34\n",
      "Epside Return: [60.9]\n",
      "\n",
      "[5] Process\n",
      "4000/20000 episodes. (20.00%)\n",
      "Total loss:\t 20088.496\n",
      "Entropy\t\tPolicy\t\tValue\n",
      "54.18\t\t478.95\t\t20567.99\n",
      "Epside Return: [76.7]\n",
      "\n",
      "[5] Process\n",
      "5000/20000 episodes. (25.00%)\n",
      "Total loss:\t 48536.527\n",
      "Entropy\t\tPolicy\t\tValue\n",
      "134.23\t\t927.28\t\t49465.15\n",
      "Epside Return: [126.0]\n",
      "\n",
      "[1] Process\n",
      "6000/20000 episodes. (30.00%)\n",
      "Total loss:\t 88210.85\n",
      "Entropy\t\tPolicy\t\tValue\n",
      "342.09\t\t785.40\t\t88999.67\n",
      "Epside Return: [185.2]\n",
      "\n",
      "[3] Process\n",
      "7000/20000 episodes. (35.00%)\n",
      "Total loss:\t 155779.7\n",
      "Entropy\t\tPolicy\t\tValue\n",
      "326.52\t\t1830.36\t\t157613.33\n",
      "Epside Return: [167.7]\n",
      "\n",
      "[6] Process\n",
      "8000/20000 episodes. (40.00%)\n",
      "Total loss:\t 125936.67\n",
      "Entropy\t\tPolicy\t\tValue\n",
      "336.81\t\t1025.19\t\t126965.23\n",
      "Epside Return: [190.4]\n",
      "\n",
      "[7] Process\n",
      "9000/20000 episodes. (45.00%)\n",
      "Total loss:\t 41415.42\n",
      "Entropy\t\tPolicy\t\tValue\n",
      "343.44\t\t340.05\t\t41758.91\n",
      "Epside Return: [184.3]\n",
      "\n",
      "[2] Process\n",
      "10000/20000 episodes. (50.00%)\n",
      "Total loss:\t 59840.555\n",
      "Entropy\t\tPolicy\t\tValue\n",
      "345.91\t\t-1013.78\t\t58830.24\n",
      "Epside Return: [197.5]\n",
      "\n",
      "[6] Process\n",
      "11000/20000 episodes. (55.00%)\n",
      "Total loss:\t 57519.12\n",
      "Entropy\t\tPolicy\t\tValue\n",
      "340.44\t\t410.44\t\t57932.96\n",
      "Epside Return: [193.1]\n",
      "\n",
      "[7] Process\n",
      "12000/20000 episodes. (60.00%)\n",
      "Total loss:\t 55367.848\n",
      "Entropy\t\tPolicy\t\tValue\n",
      "364.45\t\t-1710.17\t\t53661.32\n",
      "Epside Return: [198.4]\n",
      "\n",
      "[3] Process\n",
      "13000/20000 episodes. (65.00%)\n",
      "Total loss:\t 77467.67\n",
      "Entropy\t\tPolicy\t\tValue\n",
      "358.96\t\t335.70\t\t77806.96\n",
      "Epside Return: [194.8]\n",
      "\n",
      "[1] Process\n",
      "14000/20000 episodes. (70.00%)\n",
      "Total loss:\t 90885.03\n",
      "Entropy\t\tPolicy\t\tValue\n",
      "138.10\t\t1477.73\t\t92364.14\n",
      "Epside Return: [173.0]\n",
      "\n",
      "[7] Process\n",
      "15000/20000 episodes. (75.00%)\n",
      "Total loss:\t 46956.24\n",
      "Entropy\t\tPolicy\t\tValue\n",
      "325.48\t\t-1529.36\t\t45430.13\n",
      "Epside Return: [189.1]\n",
      "\n",
      "[1] Process\n",
      "16000/20000 episodes. (80.00%)\n",
      "Total loss:\t 78338.234\n",
      "Entropy\t\tPolicy\t\tValue\n",
      "354.62\t\t485.96\t\t78827.74\n",
      "Epside Return: [157.9]\n",
      "\n",
      "[4] Process\n",
      "17000/20000 episodes. (85.00%)\n",
      "Total loss:\t 69018.98\n",
      "Entropy\t\tPolicy\t\tValue\n",
      "362.45\t\t-53.40\t\t68969.20\n",
      "Epside Return: [198.0]\n",
      "\n",
      "[4] Process\n",
      "18000/20000 episodes. (90.00%)\n",
      "Total loss:\t 49431.6\n",
      "Entropy\t\tPolicy\t\tValue\n",
      "335.74\t\t-1528.43\t\t47906.52\n",
      "Epside Return: [156.5]\n",
      "\n",
      "[7] Process\n",
      "19000/20000 episodes. (95.00%)\n",
      "Total loss:\t 18787.541\n",
      "Entropy\t\tPolicy\t\tValue\n",
      "341.10\t\t-343.71\t\t18447.24\n",
      "Epside Return: [155.3]\n",
      "\n"
     ]
    },
    {
     "name": "stderr",
     "output_type": "stream",
     "text": [
      "Process Process-4:\n",
      "Traceback (most recent call last):\n",
      "  File \"/home/gun/anaconda3/envs/py3_cpu/lib/python3.6/multiprocessing/process.py\", line 258, in _bootstrap\n",
      "    self.run()\n",
      "  File \"/home/gun/anaconda3/envs/py3_cpu/lib/python3.6/multiprocessing/process.py\", line 93, in run\n",
      "    self._target(*self._args, **self._kwargs)\n",
      "  File \"<ipython-input-6-3767d3ec2b47>\", line 39, in train\n",
      "    cur_ep = globalNet.log_episode(ep_return)\n",
      "  File \"<ipython-input-4-9ecde70b7fe2>\", line 35, in log_episode\n",
      "    self.ep_returns[c] = ep_return\n",
      "  File \"/home/gun/anaconda3/envs/py3_cpu/lib/python3.6/multiprocessing/sharedctypes.py\", line 226, in __setitem__\n",
      "    self._obj[i] = value\n",
      "IndexError: invalid index\n",
      "Process Process-2:\n",
      "Traceback (most recent call last):\n",
      "  File \"/home/gun/anaconda3/envs/py3_cpu/lib/python3.6/multiprocessing/process.py\", line 258, in _bootstrap\n",
      "    self.run()\n"
     ]
    },
    {
     "name": "stdout",
     "output_type": "stream",
     "text": [
      "[7] Process\n"
     ]
    },
    {
     "name": "stderr",
     "output_type": "stream",
     "text": [
      "  File \"/home/gun/anaconda3/envs/py3_cpu/lib/python3.6/multiprocessing/process.py\", line 93, in run\n",
      "    self._target(*self._args, **self._kwargs)\n"
     ]
    },
    {
     "name": "stdout",
     "output_type": "stream",
     "text": [
      "20000/20000 episodes. (100.00%)\n"
     ]
    },
    {
     "name": "stderr",
     "output_type": "stream",
     "text": [
      "  File \"<ipython-input-6-3767d3ec2b47>\", line 39, in train\n",
      "    cur_ep = globalNet.log_episode(ep_return)\n"
     ]
    },
    {
     "name": "stdout",
     "output_type": "stream",
     "text": [
      "Total loss:\t 102835.64\n"
     ]
    },
    {
     "name": "stderr",
     "output_type": "stream",
     "text": [
      "  File \"<ipython-input-4-9ecde70b7fe2>\", line 35, in log_episode\n",
      "    self.ep_returns[c] = ep_return\n"
     ]
    },
    {
     "name": "stdout",
     "output_type": "stream",
     "text": [
      "Entropy\t\tPolicy\t\tValue\n"
     ]
    },
    {
     "name": "stderr",
     "output_type": "stream",
     "text": [
      "  File \"/home/gun/anaconda3/envs/py3_cpu/lib/python3.6/multiprocessing/sharedctypes.py\", line 226, in __setitem__\n",
      "    self._obj[i] = value\n"
     ]
    },
    {
     "name": "stdout",
     "output_type": "stream",
     "text": [
      "78.80\t\t1260.90\t\t104097.33\n"
     ]
    },
    {
     "name": "stderr",
     "output_type": "stream",
     "text": [
      "IndexError: invalid index\n"
     ]
    },
    {
     "name": "stdout",
     "output_type": "stream",
     "text": [
      "Epside Return: [130.1]\n",
      "\n"
     ]
    }
   ],
   "source": [
    "globalNet = A3C(input_dim, len(action_list), MAX_EP, is_global=True)\n",
    "globalNet.share_memory()\n",
    "optimizer = optim.Adam(globalNet.parameters(), lr=learning_rate)\n",
    "#scheduler = torch.optim.lr_scheduler.ExponentialLR(optimizer=optimizer, gamma=decay_rate)\n",
    "lock = mp.Lock()\n",
    "\n",
    "processes = []\n",
    "for p_idx in range(NUM_THREADS):\n",
    "    p = mp.Process(target=train, args=(lock, globalNet, optimizer, t_max, p_idx))\n",
    "    p.start()\n",
    "    processes.append(p)\n",
    "for p in processes:\n",
    "    p.join()"
   ]
  },
  {
   "cell_type": "markdown",
   "metadata": {},
   "source": [
    "## No Learning Rate Decay"
   ]
  },
  {
   "cell_type": "code",
   "execution_count": 9,
   "metadata": {
    "scrolled": false
   },
   "outputs": [
    {
     "data": {
      "image/png": "[encoded data removed]",
      "text/plain": [
       "<Figure size 720x360 with 1 Axes>"
      ]
     },
     "metadata": {
      "needs_background": "light"
     },
     "output_type": "display_data"
    }
   ],
   "source": [
    "plt.figure(figsize=(10, 5))\n",
    "average_returns = np.array(globalNet.average_returns[:])\n",
    "ep_returns = np.array(globalNet.ep_returns[:])\n",
    "nonzero_indices = average_returns!=0.0\n",
    "plt.plot(ep_returns[nonzero_indices], color='orange')\n",
    "plt.plot(average_returns[nonzero_indices], color='red')\n",
    "fignum = len([f for f in os.listdir() if 'CartPole' in f and 'png' in f])\n",
    "plt.savefig('A3C_CartPole_%d.png'%fignum)"
   ]
  },
  {
   "cell_type": "code",
   "execution_count": null,
   "metadata": {},
   "outputs": [],
   "source": []
  }
 ],
 "metadata": {
  "kernelspec": {
   "display_name": "Python 3",
   "language": "python",
   "name": "python3"
  },
  "language_info": {
   "codemirror_mode": {
    "name": "ipython",
    "version": 3
   },
   "file_extension": ".py",
   "mimetype": "text/x-python",
   "name": "python",
   "nbconvert_exporter": "python",
   "pygments_lexer": "ipython3",
   "version": "3.6.10"
  }
 },
 "nbformat": 4,
 "nbformat_minor": 4
}
