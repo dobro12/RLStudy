{
 "cells": [
  {
   "cell_type": "code",
   "execution_count": 23,
   "metadata": {},
   "outputs": [],
   "source": [
    "import numpy as np\n",
    "from matplotlib import pyplot as plt\n",
    "\n",
    "import gym\n",
    "\n",
    "import torch\n",
    "import torch.nn as nn\n",
    "import torch.nn.functional as F\n",
    "import torch.optim as optim"
   ]
  },
  {
   "cell_type": "code",
   "execution_count": 39,
   "metadata": {},
   "outputs": [],
   "source": [
    "action_list = [4/10*i-2 for i in range(11)]\n",
    "input_dim = 3 #env.observation_space.shape[0]"
   ]
  },
  {
   "cell_type": "code",
   "execution_count": 25,
   "metadata": {},
   "outputs": [],
   "source": [
    "NUM_THREADS = 4"
   ]
  },
  {
   "cell_type": "code",
   "execution_count": 26,
   "metadata": {},
   "outputs": [],
   "source": [
    "class A3C(nn.Module):\n",
    "    def __init__(self, input_dim=2, action_dim=11):\n",
    "        super(A3C, self).__init__()\n",
    "        self.input_dim = input_dim\n",
    "        self.action_dim = action_dim\n",
    "        \n",
    "        self.fc1 = nn.Linear(input_dim, 128)\n",
    "        self.fc2 = nn.Linear(128, 128)\n",
    "        self.fc3 = nn.Linear(128, action_dim)\n",
    "        self.fc4 = nn.Linear(128, 1)\n",
    "    \n",
    "    def forward(self, x):\n",
    "        x = F.relu(self.fc1(x))\n",
    "        x = F.relu(self.fc2(x))\n",
    "        Q = self.fc3(x)\n",
    "        #policy = F.softmax(self.fc3(x))\n",
    "        V = self.fc4(x)\n",
    "        return Q, V\n",
    "        #return policy, value\n",
    "    '''\n",
    "    def get_action(self, obs):\n",
    "        poilcy, value = self.forward(obs)\n",
    "        action = np.random.choice(self.action_dim, 1, p=policy.detach.data())\n",
    "        return action\n",
    "    \n",
    "    def get_value(self, obs):\n",
    "        poilcy, value = self.forward(obs)\n",
    "        return value\n",
    "    '''"
   ]
  },
  {
   "cell_type": "code",
   "execution_count": 83,
   "metadata": {},
   "outputs": [],
   "source": [
    "T_max = 100000\n",
    "t_max = 5\n",
    "\n",
    "beta = 0.01   # entropy regularization\n",
    "gamma = 0.99\n",
    "alpha = 0.99   # RMSProb decay factor\n",
    "learning_rate = 1e-4"
   ]
  },
  {
   "cell_type": "code",
   "execution_count": 85,
   "metadata": {},
   "outputs": [
    {
     "ename": "KeyboardInterrupt",
     "evalue": "",
     "output_type": "error",
     "traceback": [
      "\u001b[0;31m---------------------------------------------------------------------------\u001b[0m",
      "\u001b[0;31mKeyboardInterrupt\u001b[0m                         Traceback (most recent call last)",
      "\u001b[0;32m<ipython-input-85-d3e299eb930e>\u001b[0m in \u001b[0;36m<module>\u001b[0;34m\u001b[0m\n\u001b[1;32m     13\u001b[0m \u001b[0mbuff_reward\u001b[0m \u001b[0;34m=\u001b[0m \u001b[0;34m[\u001b[0m\u001b[0;34m]\u001b[0m\u001b[0;34m\u001b[0m\u001b[0;34m\u001b[0m\u001b[0m\n\u001b[1;32m     14\u001b[0m \u001b[0mbuff_logp\u001b[0m \u001b[0;34m=\u001b[0m \u001b[0;34m[\u001b[0m\u001b[0;34m]\u001b[0m\u001b[0;34m\u001b[0m\u001b[0;34m\u001b[0m\u001b[0m\n\u001b[0;32m---> 15\u001b[0;31m \u001b[0mbuff_entropy\u001b[0m \u001b[0;34m=\u001b[0m \u001b[0;34m[\u001b[0m\u001b[0;34m]\u001b[0m\u001b[0;34m\u001b[0m\u001b[0;34m\u001b[0m\u001b[0m\n\u001b[0m\u001b[1;32m     16\u001b[0m \u001b[0;34m\u001b[0m\u001b[0m\n\u001b[1;32m     17\u001b[0m \u001b[0menv\u001b[0m \u001b[0;34m=\u001b[0m \u001b[0mgym\u001b[0m\u001b[0;34m.\u001b[0m\u001b[0mmake\u001b[0m\u001b[0;34m(\u001b[0m\u001b[0;34m'Pendulum-v0'\u001b[0m\u001b[0;34m)\u001b[0m\u001b[0;34m\u001b[0m\u001b[0;34m\u001b[0m\u001b[0m\n",
      "\u001b[0;31mKeyboardInterrupt\u001b[0m: "
     ]
    }
   ],
   "source": [
    "globalNet = A3C(input_dim, len(action_list))\n",
    "optimizer = optim.Adam(globalNet.parameters(), lr=learning_rate)\n",
    "T = 0\n",
    "\n",
    "# for each thread\n",
    "t = 0\n",
    "done = False\n",
    "ep_return = 0\n",
    "log_episode_return = []\n",
    "\n",
    "buff_value = []\n",
    "buff_q = []\n",
    "buff_reward = []\n",
    "buff_logp = []\n",
    "buff_entropy = []\n",
    "\n",
    "env = gym.make('Pendulum-v0')\n",
    "obs = env.reset()\n",
    "\n",
    "while T < T_max:\n",
    "    t_start = t\n",
    "    localNet = globalNet #A3C(input_dim, len(action_list))\n",
    "    localNet.load_state_dict(globalNet.state_dict())\n",
    "    \n",
    "    while t_start-t < t_max:\n",
    "        Q, V = localNet(torch.tensor(obs.astype(np.float32)))\n",
    "        prob = F.softmax(Q).data\n",
    "        [a] = np.random.choice(localNet.action_dim, 1, p=prob.detach().numpy())\n",
    "        log_prob = F.log_softmax(Q)\n",
    "        \n",
    "        obs, reward, done, _ = env.step([action_list[a]])\n",
    "        ep_return += reward\n",
    "        entropy = -log_prob*prob.sum()\n",
    "        \n",
    "        buff_q.append(Q)\n",
    "        buff_value.append(V)\n",
    "        buff_reward.append(reward)\n",
    "        buff_logp.append(log_prob[a])\n",
    "        buff_entropy.append(entropy)\n",
    "        t += 1\n",
    "        T += 1\n",
    "        if done:\n",
    "            obs = env.reset()\n",
    "            log_episode_return.append(ep_return)\n",
    "            print(ep_return)\n",
    "            ep_return = 0\n",
    "            break\n",
    "    \n",
    "    R = V if not done else 0\n",
    "    loss = 0\n",
    "    for i in range(-1, -(t-t_start)-1, -1): #range(t-1, t_start-1, -1):\n",
    "        R = buff_reward[i] + gamma*R\n",
    "        TD = R - buff_value[i]\n",
    "        policy_loss = buff_logp[i] * TD.detach()\n",
    "        value_loss = torch.pow(TD, 2)\n",
    "        entropy_loss = buff_entropy[i].sum()\n",
    "        loss = -(policy_loss + value_loss + beta*entropy_loss)\n",
    "        \n",
    "    optimizer.zero_grad()\n",
    "    loss.backward()\n",
    "    optimizer.step()\n",
    "#     if T%1000==0:\n",
    "#         print('Total loss:', loss.data.numpy()[0])\n",
    "#         print('Entropy:', entropy_loss.data.numpy())\n",
    "#         print('Policy:', policy_loss.data.numpy()[0])\n",
    "#         print('Value:', value_loss.data.numpy()[0])\n",
    "#         print()"
   ]
  },
  {
   "cell_type": "code",
   "execution_count": null,
   "metadata": {},
   "outputs": [],
   "source": []
  }
 ],
 "metadata": {
  "kernelspec": {
   "display_name": "Python 3",
   "language": "python",
   "name": "python3"
  },
  "language_info": {
   "codemirror_mode": {
    "name": "ipython",
    "version": 3
   },
   "file_extension": ".py",
   "mimetype": "text/x-python",
   "name": "python",
   "nbconvert_exporter": "python",
   "pygments_lexer": "ipython3",
   "version": "3.6.10"
  }
 },
 "nbformat": 4,
 "nbformat_minor": 4
}
