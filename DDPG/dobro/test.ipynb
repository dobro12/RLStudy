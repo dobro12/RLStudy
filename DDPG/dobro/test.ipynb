{
 "cells": [
  {
   "cell_type": "code",
   "execution_count": 3,
   "metadata": {},
   "outputs": [
    {
     "name": "stdout",
     "output_type": "stream",
     "text": [
      "[<tf.Tensor 'gradients_1/mul_1_grad/Reshape_1:0' shape=<unknown> dtype=float32>]\n"
     ]
    }
   ],
   "source": [
    "import tensorflow as tf\n",
    "\n",
    "a = tf.Variable(-1.0)\n",
    "b = tf.placeholder(tf.float32, None)\n",
    "c = a*b\n",
    "gradient = tf.gradients(c,b)\n",
    "print(gradient)"
   ]
  },
  {
   "cell_type": "code",
   "execution_count": 4,
   "metadata": {},
   "outputs": [],
   "source": [
    "sess = tf.Session()\n",
    "sess.run(tf.global_variables_initializer())"
   ]
  },
  {
   "cell_type": "code",
   "execution_count": 5,
   "metadata": {},
   "outputs": [
    {
     "data": {
      "text/plain": [
       "[array([-1., -1., -1.], dtype=float32)]"
      ]
     },
     "execution_count": 5,
     "metadata": {},
     "output_type": "execute_result"
    }
   ],
   "source": [
    "sess.run(gradient, feed_dict={b:[2,1,0]})"
   ]
  },
  {
   "cell_type": "code",
   "execution_count": 1,
   "metadata": {
    "scrolled": true
   },
   "outputs": [
    {
     "name": "stdout",
     "output_type": "stream",
     "text": [
      "Tensor(\"DDPG/targets:0\", shape=(?,), dtype=float32)\n",
      "fail to load model...\n"
     ]
    }
   ],
   "source": [
    "# to ignore warning message\n",
    "import warnings\n",
    "warnings.filterwarnings(\"ignore\")\n",
    "from tensorflow.python.util import deprecation\n",
    "deprecation._PRINT_DEPRECATION_WARNINGS = False\n",
    "###########################\n",
    "from nets import Agent\n",
    "\n",
    "import tensorflow as tf\n",
    "import numpy as np\n",
    "import gym\n",
    "\n",
    "env_name = 'Pendulum-v0'\n",
    "save_name = env_name.split('-')[0]\n",
    "agent_args = {'agent_name':'DDPG',\n",
    "            'env_name':save_name,\n",
    "            'discount_factor':0.99,\n",
    "            'hidden1':64,\n",
    "            'hidden2':64,\n",
    "            'v_lr':1e-3,\n",
    "            'p_lr':1e-4,\n",
    "            'init_std':0.0,\n",
    "            'soft_update':0.001}\n",
    "env = gym.make(env_name)\n",
    "agent = Agent(env, agent_args)"
   ]
  },
  {
   "cell_type": "code",
   "execution_count": null,
   "metadata": {},
   "outputs": [],
   "source": []
  }
 ],
 "metadata": {
  "kernelspec": {
   "display_name": "Python 3",
   "language": "python",
   "name": "python3"
  },
  "language_info": {
   "codemirror_mode": {
    "name": "ipython",
    "version": 3
   },
   "file_extension": ".py",
   "mimetype": "text/x-python",
   "name": "python",
   "nbconvert_exporter": "python",
   "pygments_lexer": "ipython3",
   "version": "3.5.2"
  }
 },
 "nbformat": 4,
 "nbformat_minor": 4
}
