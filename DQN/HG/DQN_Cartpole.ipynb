{
 "cells": [
  {
   "cell_type": "code",
   "execution_count": 1,
   "metadata": {},
   "outputs": [],
   "source": [
    "import numpy as np\n",
    "import random\n",
    "from matplotlib import pyplot as plt\n",
    "\n",
    "import gym\n",
    "\n",
    "import torch\n",
    "import torch.nn as nn\n",
    "import torch.nn.functional as F\n",
    "import torch.optim as optim"
   ]
  },
  {
   "cell_type": "code",
   "execution_count": 2,
   "metadata": {},
   "outputs": [
    {
     "name": "stderr",
     "output_type": "stream",
     "text": [
      "/home/hogun/anaconda2/envs/gym/lib/python3.6/site-packages/gym/logger.py:30: UserWarning: \u001b[33mWARN: Box bound precision lowered by casting to float32\u001b[0m\n",
      "  warnings.warn(colorize('%s: %s'%('WARN', msg % args), 'yellow'))\n"
     ]
    }
   ],
   "source": [
    "env = gym.make('CartPole-v0')\n",
    "input_dim = 4\n",
    "action_dim = 2"
   ]
  },
  {
   "cell_type": "code",
   "execution_count": 3,
   "metadata": {},
   "outputs": [],
   "source": [
    "action_list = [0, 1]"
   ]
  },
  {
   "cell_type": "code",
   "execution_count": 4,
   "metadata": {},
   "outputs": [],
   "source": [
    "def get_action(q_net, inputs, epsilon, action_dim=11):\n",
    "    # randomly choose\n",
    "    if random.random() <= epsilon:\n",
    "        action_idx = random.randint(0, action_dim-1)\n",
    "    else:\n",
    "        q_value = q_net(inputs).tolist()\n",
    "        action_idx = np.argmax(q_value)\n",
    "    \n",
    "    return action_idx"
   ]
  },
  {
   "cell_type": "code",
   "execution_count": 5,
   "metadata": {},
   "outputs": [],
   "source": [
    "class QNet(nn.Module):\n",
    "    def __init__(self, input_dim=4, action_dim=2):\n",
    "        super(QNet, self).__init__()\n",
    "        self.fc1 = nn.Linear(input_dim, 32)\n",
    "        self.fc2 = nn.Linear(32, 64)\n",
    "        self.fc3 = nn.Linear(64, action_dim)\n",
    "    \n",
    "    def forward(self, x):\n",
    "        x = F.relu(self.fc1(x))\n",
    "        x = F.relu(self.fc2(x))\n",
    "        x = self.fc3(x)\n",
    "        return x"
   ]
  },
  {
   "cell_type": "code",
   "execution_count": 6,
   "metadata": {},
   "outputs": [],
   "source": [
    "learning_rate = 1e-2\n",
    "epsilon = 1.0\n",
    "min_epsilon = 0.01\n",
    "\n",
    "max_buff_size = 1000\n",
    "batch_size = 32\n",
    "gamma = 0.999"
   ]
  },
  {
   "cell_type": "code",
   "execution_count": 7,
   "metadata": {},
   "outputs": [],
   "source": [
    "q_net = QNet(input_dim, action_dim)\n",
    "target_net = QNet(input_dim, action_dim)\n",
    "target_net.load_state_dict(q_net.state_dict())\n",
    "criterion = nn.MSELoss(reduction='mean')\n",
    "#optimizer = optim.SGD(q_net.parameters(), lr=1e-6, momentum=0.95)\n",
    "optimizer = optim.Adam(q_net.parameters(), lr=learning_rate)\n",
    "\n",
    "#optimizer.zero_grad()"
   ]
  },
  {
   "cell_type": "code",
   "execution_count": 8,
   "metadata": {},
   "outputs": [],
   "source": [
    "def calculate_loss(minibatch, gamma=0.99):\n",
    "    rewards = torch.tensor((minibatch[:, 2]).astype(np.float32))\n",
    "    done = torch.tensor((1-minibatch[:, 4]).astype(np.float32))\n",
    "    next_q = target_net(torch.tensor(np.concatenate(minibatch[:,3], axis=0).reshape(-1, input_dim), dtype=torch.float32))\n",
    "    next_q_max = next_q[torch.arange(batch_size), next_q.max(1)[1]]\n",
    "    y_target = rewards + gamma * done * next_q_max\n",
    "    #print('y target:', y_target)\n",
    "    q_values = q_net(torch.tensor(np.concatenate(minibatch[:,0], axis=0).reshape(-1, input_dim), dtype=torch.float32))\n",
    "    actions = minibatch[:, 1].astype(np.int32)\n",
    "    max_q = q_values[torch.arange(batch_size), actions]\n",
    "    #print('q:', max_q)\n",
    "    loss = criterion(y_target, max_q)\n",
    "    \n",
    "    return loss"
   ]
  },
  {
   "cell_type": "code",
   "execution_count": 9,
   "metadata": {},
   "outputs": [
    {
     "data": {
      "text/plain": [
       "array([ 0.01928016, -0.03572387,  0.00552086,  0.01852299])"
      ]
     },
     "execution_count": 9,
     "metadata": {},
     "output_type": "execute_result"
    }
   ],
   "source": [
    "env.reset()"
   ]
  },
  {
   "cell_type": "code",
   "execution_count": 10,
   "metadata": {},
   "outputs": [
    {
     "name": "stdout",
     "output_type": "stream",
     "text": [
      "100 step loss: 4347.5938\n",
      "200 step loss: 23214.545\n",
      "300 step loss: 633.3142\n",
      "400 step loss: 231.80997\n",
      "500 step loss: 64.137184\n",
      "600 step loss: 45.77886\n",
      "700 step loss: 31.744955\n",
      "800 step loss: 17.975775\n",
      "900 step loss: 22.656235\n",
      "1000 step loss: 46.83385\n",
      "1100 step loss: 82.19795\n",
      "1200 step loss: 8.688998\n",
      "1300 step loss: 8.949803\n",
      "1400 step loss: 76.94687\n",
      "1500 step loss: 85.372604\n",
      "1600 step loss: 45.07467\n",
      "1700 step loss: 10.680912\n",
      "1800 step loss: 5.778859\n",
      "1900 step loss: 114.459274\n",
      "2000 step loss: 93.952644\n",
      "2100 step loss: 39.812817\n",
      "2200 step loss: 3.36094\n",
      "2300 step loss: 73.45199\n",
      "2400 step loss: 76.65194\n",
      "2500 step loss: 40.74973\n",
      "2600 step loss: 65.04831\n",
      "2700 step loss: 2.1639047\n",
      "2800 step loss: 4.0127983\n",
      "2900 step loss: 2.4656374\n",
      "3000 step loss: 1.9911432\n",
      "3100 step loss: 3.0881987\n",
      "3200 step loss: 7.7625\n",
      "3300 step loss: 0.9633869\n",
      "3400 step loss: 27.8122\n",
      "3500 step loss: 2.4957805\n",
      "3600 step loss: 5.8264523\n",
      "3700 step loss: 6.941495\n",
      "3800 step loss: 63.80712\n",
      "3900 step loss: 10.993256\n",
      "4000 step loss: 8.959072\n",
      "4100 step loss: 445.068\n",
      "4200 step loss: 10845.998\n",
      "4300 step loss: 787.25305\n",
      "4400 step loss: 489.00803\n",
      "4500 step loss: 1427.3098\n",
      "4600 step loss: 209.60391\n",
      "4700 step loss: 139.63312\n",
      "4800 step loss: 510.4108\n",
      "4900 step loss: 67.6848\n",
      "5000 step loss: 114.38595\n",
      "5100 step loss: 21.494865\n",
      "5200 step loss: 78.03603\n",
      "5300 step loss: 7.3701777\n",
      "5400 step loss: 2.8808835\n",
      "5500 step loss: 102.48545\n",
      "5600 step loss: 90.91207\n",
      "5700 step loss: 81.380066\n",
      "5800 step loss: 4.421856\n",
      "5900 step loss: 2.36973\n",
      "6000 step loss: 1.9775995\n",
      "6100 step loss: 2.142825\n",
      "6200 step loss: 1.4732455\n",
      "6300 step loss: 1.6066003\n",
      "6400 step loss: 28.001047\n",
      "6500 step loss: 11.633624\n",
      "6600 step loss: 18.619318\n",
      "6700 step loss: 1.2210124\n",
      "6800 step loss: 15.943339\n",
      "6900 step loss: 1.3027159\n",
      "7000 step loss: 1.2971938\n",
      "7100 step loss: 1.1281468\n",
      "7200 step loss: 1.5795314\n",
      "7300 step loss: 1.5233023\n",
      "7400 step loss: 1.4171003\n",
      "7500 step loss: 0.76023793\n",
      "7600 step loss: 1.8502548\n",
      "7700 step loss: 0.68511325\n",
      "7800 step loss: 0.5076674\n",
      "7900 step loss: 0.9264369\n",
      "8000 step loss: 0.8562194\n",
      "8100 step loss: 0.41320854\n",
      "8200 step loss: 2.4567354\n",
      "8300 step loss: 6.8608007\n",
      "8400 step loss: 11.753145\n",
      "8500 step loss: 22.948574\n",
      "8600 step loss: 127.517395\n",
      "8700 step loss: 94.82529\n",
      "8800 step loss: 460.16925\n",
      "8900 step loss: 2085.0833\n",
      "9000 step loss: 871.9277\n",
      "9100 step loss: 183.16907\n",
      "9200 step loss: 544064.0\n",
      "9300 step loss: 15657.75\n",
      "9400 step loss: 56429.395\n",
      "9500 step loss: 6645.324\n",
      "9600 step loss: 11430.223\n",
      "9700 step loss: 8422.756\n",
      "9800 step loss: 1491.8168\n",
      "9900 step loss: 1713.8414\n",
      "10000 step loss: 1104.4912\n"
     ]
    }
   ],
   "source": [
    "replay_buffer = []\n",
    "log_returns = []\n",
    "log_minibatchloss = []\n",
    "\n",
    "done = False\n",
    "t_step = 0\n",
    "ridx = 0\n",
    "episode_reward = 0\n",
    "observation = env.reset()\n",
    "\n",
    "while t_step<10000:\n",
    "    #env.render()\n",
    "    pre_obs = observation\n",
    "    input_state = torch.tensor([observation], dtype=torch.float32)\n",
    "    action_idx = get_action(q_net, input_state, epsilon, action_dim)\n",
    "    observation, reward, done, info = env.step(action_list[action_idx])\n",
    "    \n",
    "    epsilon = max(0.999*epsilon, min_epsilon)\n",
    "    \n",
    "    episode_reward += reward\n",
    "    if done:\n",
    "        #print('new episode.')\n",
    "        log_returns.append(episode_reward)\n",
    "        episode_reward = 0\n",
    "        observation = env.reset()\n",
    "    \n",
    "    if len(replay_buffer)<max_buff_size:\n",
    "        replay_buffer.append([pre_obs, action_idx, reward, observation, done])\n",
    "        if len(replay_buffer)<batch_size:\n",
    "            continue\n",
    "    else:\n",
    "        replay_buffer[ridx%max_buff_size] = [pre_obs, action_idx, reward, observation, done]\n",
    "        ridx += 1\n",
    "    \n",
    "    minibatch = np.array(random.sample(replay_buffer, batch_size))\n",
    "    loss = calculate_loss(minibatch)\n",
    "    \n",
    "    optimizer.zero_grad()\n",
    "    loss.backward()\n",
    "    optimizer.step()\n",
    "    \n",
    "    if (t_step+1)%100==0:\n",
    "        print(t_step+1, 'step loss:', loss.data.numpy())\n",
    "    log_minibatchloss.append(loss.data.numpy())\n",
    "    \n",
    "    if (t_step+1)%10:\n",
    "        target_net.load_state_dict(q_net.state_dict())\n",
    "        \n",
    "    t_step += 1\n",
    "    #running_loss += loss.item()"
   ]
  },
  {
   "cell_type": "code",
   "execution_count": 11,
   "metadata": {},
   "outputs": [
    {
     "data": {
      "text/plain": [
       "[<matplotlib.lines.Line2D at 0x7fc410278fd0>]"
      ]
     },
     "execution_count": 11,
     "metadata": {},
     "output_type": "execute_result"
    },
    {
     "data": {
      "image/png": "[encoded data removed]",
      "text/plain": [
       "<Figure size 432x288 with 1 Axes>"
      ]
     },
     "metadata": {
      "needs_background": "light"
     },
     "output_type": "display_data"
    }
   ],
   "source": [
    "plt.plot(log_returns)"
   ]
  },
  {
   "cell_type": "code",
   "execution_count": 12,
   "metadata": {},
   "outputs": [
    {
     "data": {
      "text/plain": [
       "[<matplotlib.lines.Line2D at 0x7fc410201e10>]"
      ]
     },
     "execution_count": 12,
     "metadata": {},
     "output_type": "execute_result"
    },
    {
     "data": {
      "image/png": "[encoded data removed]",
      "text/plain": [
       "<Figure size 432x288 with 1 Axes>"
      ]
     },
     "metadata": {
      "needs_background": "light"
     },
     "output_type": "display_data"
    }
   ],
   "source": [
    "plt.plot(log_minibatchloss)"
   ]
  },
  {
   "cell_type": "code",
   "execution_count": 76,
   "metadata": {},
   "outputs": [],
   "source": [
    "actions = minibatch[:, 1].astype(np.int32)"
   ]
  },
  {
   "cell_type": "code",
   "execution_count": 75,
   "metadata": {},
   "outputs": [
    {
     "data": {
      "text/plain": [
       "4.0"
      ]
     },
     "execution_count": 75,
     "metadata": {},
     "output_type": "execute_result"
    }
   ],
   "source": [
    "actions[1]"
   ]
  },
  {
   "cell_type": "code",
   "execution_count": 79,
   "metadata": {},
   "outputs": [
    {
     "data": {
      "text/plain": [
       "tensor(0.1348, grad_fn=<SelectBackward>)"
      ]
     },
     "execution_count": 79,
     "metadata": {},
     "output_type": "execute_result"
    }
   ],
   "source": [
    "q_values[2, actions[2]]"
   ]
  },
  {
   "cell_type": "code",
   "execution_count": 80,
   "metadata": {},
   "outputs": [
    {
     "data": {
      "text/plain": [
       "array([4, 4, 5, 5, 4, 5, 5, 4, 5, 4, 0, 4, 7, 4, 4, 4, 4, 4, 2, 4, 4, 5,\n",
       "       4, 4, 4, 5, 5, 4, 4, 5, 4, 5], dtype=int32)"
      ]
     },
     "execution_count": 80,
     "metadata": {},
     "output_type": "execute_result"
    }
   ],
   "source": [
    "actions"
   ]
  },
  {
   "cell_type": "code",
   "execution_count": 72,
   "metadata": {},
   "outputs": [
    {
     "data": {
      "text/plain": [
       "tensor([-0.0506,  0.2349,  0.1348,  0.0211,  0.2513,  0.3992,  0.0611,  0.1723,\n",
       "         0.0454, -0.0631, -0.1171, -0.0876, -0.0491,  0.2502, -0.0556, -0.0530,\n",
       "         0.0613, -0.1380, -0.2137, -0.0490,  0.2368,  0.0771, -0.1257,  0.0239,\n",
       "        -0.0585,  0.2101,  0.0458, -0.0585, -0.0469,  0.0531,  0.0719,  0.0261],\n",
       "       grad_fn=<IndexBackward>)"
      ]
     },
     "execution_count": 72,
     "metadata": {},
     "output_type": "execute_result"
    }
   ],
   "source": [
    "q_values[torch.arange(batch_size), actions]"
   ]
  },
  {
   "cell_type": "code",
   "execution_count": 61,
   "metadata": {},
   "outputs": [
    {
     "data": {
      "text/plain": [
       "tensor([[-0.3890,  0.2014, -0.2571, -0.0251, -0.0521,  0.4833, -0.7249, -0.0361,\n",
       "         -0.1900,  0.1108, -0.4397],\n",
       "        [-0.3219,  0.2305, -0.2084, -0.0083, -0.0382,  0.4465, -0.5485, -0.0122,\n",
       "         -0.0171,  0.0847, -0.3523],\n",
       "        [-0.2015,  0.1342,  0.0216, -0.0131,  0.2868, -0.0102, -0.2600, -0.2703,\n",
       "         -0.3065, -0.1302, -0.1496],\n",
       "        [-0.2896,  0.2081, -0.1910, -0.0278, -0.0387,  0.3760, -0.5370, -0.0687,\n",
       "         -0.1798,  0.0376, -0.2814],\n",
       "        [-0.1036,  0.1037, -0.0619,  0.0192, -0.0147,  0.1950, -0.1751, -0.0594,\n",
       "          0.0413, -0.0244, -0.0841],\n",
       "        [-0.1805,  0.1679, -0.1021, -0.0082, -0.0698,  0.1983, -0.3227, -0.0910,\n",
       "         -0.1269, -0.0140, -0.0550],\n",
       "        [-0.0927,  0.1206, -0.0480,  0.0112,  0.1465,  0.0464, -0.1083, -0.1965,\n",
       "         -0.2380, -0.1121, -0.0838],\n",
       "        [-0.3561,  0.2387, -0.2382, -0.0063, -0.0365,  0.4669, -0.6248, -0.0081,\n",
       "         -0.0522,  0.0936, -0.4052],\n",
       "        [-0.2556,  0.1248,  0.0295,  0.0325,  0.3248,  0.0081, -0.3939, -0.2996,\n",
       "         -0.3063, -0.1500, -0.2291],\n",
       "        [-0.0762,  0.0899, -0.0775,  0.0622, -0.0081,  0.1630, -0.1444, -0.0891,\n",
       "         -0.0181, -0.0614, -0.0830],\n",
       "        [-0.2615,  0.1035, -0.0231,  0.0717,  0.2755,  0.0233, -0.4074, -0.2765,\n",
       "         -0.3093, -0.1313, -0.2233],\n",
       "        [-0.2087,  0.1927, -0.1271, -0.0193, -0.0510,  0.2599, -0.3765, -0.0753,\n",
       "         -0.1341, -0.0045, -0.1207],\n",
       "        [-0.1585,  0.1383, -0.0824, -0.0196, -0.0245,  0.2441, -0.2448, -0.0322,\n",
       "          0.0916,  0.0233, -0.1179],\n",
       "        [-0.1098,  0.0813, -0.0747,  0.0022, -0.1162,  0.0836, -0.2599, -0.1082,\n",
       "         -0.0953, -0.0331,  0.0783],\n",
       "        [-0.2678,  0.1187,  0.0064,  0.0567,  0.3081,  0.0162, -0.4084, -0.2887,\n",
       "         -0.3053, -0.1393, -0.2337],\n",
       "        [-0.1331,  0.1352, -0.0259, -0.0107,  0.2010,  0.0190, -0.1455, -0.2206,\n",
       "         -0.2635, -0.1123, -0.1006],\n",
       "        [-0.2406,  0.1298,  0.0444,  0.0114,  0.3359, -0.0010, -0.3652, -0.3041,\n",
       "         -0.3108, -0.1574, -0.2171],\n",
       "        [-0.2223,  0.1341,  0.0374, -0.0036,  0.3170, -0.0075, -0.3181, -0.2939,\n",
       "         -0.3118, -0.1480, -0.1884],\n",
       "        [-0.2843,  0.2101, -0.1686, -0.0110, -0.0416,  0.4131, -0.4661, -0.0210,\n",
       "          0.0200,  0.0731, -0.2892],\n",
       "        [-0.3627,  0.1974, -0.2419, -0.0282, -0.0441,  0.4590, -0.6765, -0.0477,\n",
       "         -0.1961,  0.0927, -0.4036],\n",
       "        [-0.4011,  0.2074, -0.2638, -0.0183, -0.0563,  0.4931, -0.7412, -0.0279,\n",
       "         -0.1688,  0.1125, -0.4596],\n",
       "        [-0.0282,  0.0758, -0.1033,  0.0787,  0.0409,  0.1198, -0.0981, -0.1299,\n",
       "         -0.1379, -0.0783, -0.0745],\n",
       "        [-0.3978,  0.2169, -0.2626, -0.0082, -0.0518,  0.4844, -0.7263, -0.0185,\n",
       "         -0.1298,  0.1079, -0.4631],\n",
       "        [-0.3834,  0.2322, -0.2560, -0.0025, -0.0400,  0.4753, -0.6858, -0.0088,\n",
       "         -0.0876,  0.1016, -0.4432],\n",
       "        [-0.3300,  0.2002, -0.2189, -0.0299, -0.0401,  0.4252, -0.6101, -0.0624,\n",
       "         -0.1930,  0.0677, -0.3506],\n",
       "        [-0.1284,  0.1383, -0.0743, -0.0060, -0.0889,  0.1345, -0.2961, -0.1251,\n",
       "         -0.1249, -0.0369,  0.0132],\n",
       "        [-0.2480,  0.2075, -0.1598, -0.0240, -0.0404,  0.3200, -0.4573, -0.0700,\n",
       "         -0.1571,  0.0133, -0.2062],\n",
       "        [-0.1757,  0.1376, -0.0030, -0.0177,  0.2492, -0.0032, -0.1961, -0.2471,\n",
       "         -0.2925, -0.1168, -0.1169],\n",
       "        [-0.0484,  0.0951, -0.0796,  0.0422,  0.0830,  0.0912, -0.0949, -0.1601,\n",
       "         -0.1892, -0.0926, -0.0700],\n",
       "        [-0.2039,  0.1705, -0.1010, -0.0332, -0.0358,  0.3257, -0.3093, -0.0269,\n",
       "          0.0814,  0.0507, -0.1594],\n",
       "        [-0.2444,  0.1866, -0.1279, -0.0159, -0.0451,  0.3732, -0.3806, -0.0268,\n",
       "          0.0568,  0.0625, -0.2215],\n",
       "        [-0.0344,  0.0753, -0.1106,  0.1001,  0.0142,  0.1364, -0.1042, -0.1129,\n",
       "         -0.1007, -0.0693, -0.0782]], grad_fn=<AddmmBackward>)"
      ]
     },
     "execution_count": 61,
     "metadata": {},
     "output_type": "execute_result"
    }
   ],
   "source": [
    "next_q_value"
   ]
  },
  {
   "cell_type": "code",
   "execution_count": 64,
   "metadata": {},
   "outputs": [
    {
     "data": {
      "text/plain": [
       "tensor([5, 5, 4, 5, 5, 5, 4, 5, 4, 5, 4, 5, 5, 5, 4, 4, 4, 4, 5, 5, 5, 5, 5, 5,\n",
       "        5, 1, 5, 4, 1, 5, 5, 5])"
      ]
     },
     "execution_count": 64,
     "metadata": {},
     "output_type": "execute_result"
    }
   ],
   "source": [
    "next_q_value.max(1)[1]"
   ]
  },
  {
   "cell_type": "code",
   "execution_count": 65,
   "metadata": {},
   "outputs": [
    {
     "data": {
      "text/plain": [
       "tensor([ 0.0830,  0.1162, -0.1219,  0.2349,  0.2502, -0.0039, -0.2531,  0.1245,\n",
       "         0.0834, -0.3718, -0.0237, -0.0529, -0.1929, -0.0046,  0.0380, -0.1818,\n",
       "        -0.1681, -0.1136, -0.6612, -0.2126, -0.2408,  0.1410, -0.0849,  0.0358,\n",
       "         0.4429, -0.1297, -0.3034, -0.0631, -0.0349,  0.0212,  0.0593, -0.0207],\n",
       "       grad_fn=<IndexBackward>)"
      ]
     },
     "execution_count": 65,
     "metadata": {},
     "output_type": "execute_result"
    }
   ],
   "source": [
    "next_q_max"
   ]
  },
  {
   "cell_type": "code",
   "execution_count": null,
   "metadata": {},
   "outputs": [],
   "source": [
    "rewards = torch.tensor((minibatch[:, 2]).astype(np.float32))\n",
    "    is_done = torch.tensor((1-minibatch[:, 4]).astype(np.float32))\n",
    "    next_q_value = target_net(torch.tensor(np.concatenate(minibatch[:,3], axis=0).reshape(-1, 3), dtype=torch.float32))\n",
    "    next_q_max = next_q_value[torch.arange(batch_size), next_q_value.max(1)[1]]\n",
    "    y_target = rewards + gamma * is_done * next_q_max\n",
    "#     rewards = torch.tensor(np.expand_dims((minibatch[:, 2]), axis=1).astype(np.float32))\n",
    "#     is_done = torch.tensor(np.expand_dims((1-minibatch[:, 4]), axis=1).astype(np.float32))\n",
    "#     next_q_value = target_net(torch.tensor(np.concatenate(minibatch[:,3], axis=0).reshape(-1, 3), dtype=torch.float32))\n",
    "#     next_q_max = next_q_value[torch.arange(32), randn]\n",
    "#     y_target = rewards + gamma * is_done * next_q_max\n",
    "    #y_target = np.expand_dims((minibatch[:, 2]), axis=1) + gamma * np.expand_dims((1-minibatch[:, 4]), axis=1) * target_net(torch.tensor(np.concatenate(minibatch[:,3], axis=0).reshape(-1, 3), dtype=torch.float32)).detach().numpy()\n",
    "    q_values = q_net(torch.tensor(np.concatenate(minibatch[:,0], axis=0).reshape(-1, 3), dtype=torch.float32))\n",
    "    actions = minibatch[:, 1].astype(np.int32)\n",
    "    max_q_values = q_values[torch.arange(batch_size), actions]\n",
    "    loss = criterion(y_target, max_q_values)"
   ]
  },
  {
   "cell_type": "code",
   "execution_count": 32,
   "metadata": {},
   "outputs": [],
   "source": [
    "next_q = target_net(torch.tensor(np.concatenate(minibatch[:,3], axis=0).reshape(-1, 3), dtype=torch.float32))"
   ]
  },
  {
   "cell_type": "code",
   "execution_count": 42,
   "metadata": {},
   "outputs": [
    {
     "data": {
      "text/plain": [
       "tensor([ 9,  1,  7,  4,  4,  7,  6,  4,  1,  0,  3, 10,  2,  2,  9, 10,  8,  8,\n",
       "         6,  2,  8,  4,  2, 10,  5,  8,  6,  4,  7,  1,  3,  3])"
      ]
     },
     "execution_count": 42,
     "metadata": {},
     "output_type": "execute_result"
    }
   ],
   "source": [
    "randn = torch.randint(11, [32])\n",
    "randn"
   ]
  },
  {
   "cell_type": "code",
   "execution_count": 48,
   "metadata": {},
   "outputs": [
    {
     "data": {
      "text/plain": [
       "tensor([-0.0313, -0.1489,  0.2202,  0.1781,  0.2679,  0.2032, -0.2715,  0.2581,\n",
       "        -0.0288,  0.1414, -0.0444,  0.4045, -0.2039, -0.0605,  0.0135,  0.3185,\n",
       "         0.0863, -0.0968, -0.1068,  0.1083,  0.0934,  0.1778, -0.2150,  0.3657,\n",
       "        -0.2678,  0.1024, -0.1340,  0.2576,  0.1774, -0.1080,  0.0210,  0.0256],\n",
       "       grad_fn=<IndexBackward>)"
      ]
     },
     "execution_count": 48,
     "metadata": {},
     "output_type": "execute_result"
    }
   ],
   "source": []
  },
  {
   "cell_type": "code",
   "execution_count": 46,
   "metadata": {},
   "outputs": [
    {
     "data": {
      "text/plain": [
       "tensor([0, 1, 2, 3, 4, 5, 6, 7, 8, 9])"
      ]
     },
     "execution_count": 46,
     "metadata": {},
     "output_type": "execute_result"
    }
   ],
   "source": [
    "torch.arange(10)"
   ]
  },
  {
   "cell_type": "code",
   "execution_count": 33,
   "metadata": {},
   "outputs": [
    {
     "data": {
      "text/plain": [
       "tensor([10, 10, 10, 10, 10, 10, 10, 10, 10, 10, 10, 10, 10, 10, 10, 10, 10, 10,\n",
       "        10, 10, 10, 10, 10, 10, 10, 10, 10, 10, 10, 10, 10, 10])"
      ]
     },
     "execution_count": 33,
     "metadata": {},
     "output_type": "execute_result"
    }
   ],
   "source": [
    "next_q.max(1)[1]"
   ]
  },
  {
   "cell_type": "code",
   "execution_count": 82,
   "metadata": {},
   "outputs": [
    {
     "data": {
      "text/plain": [
       "array([-9.304452611223322, -10.277520192779392, -7.663879315635071,\n",
       "       -4.122275127762492, -4.864194751165726, -6.69305600017488,\n",
       "       -6.831440050666521, -6.662494135081751, -6.498908856451996,\n",
       "       -10.490003068554401, -3.931196337876829, -6.50953319594097,\n",
       "       -7.578516737689235, -5.718443140197207, -4.662344422291226,\n",
       "       -7.430904266226308, -2.5485305567021013, -6.450659765574713,\n",
       "       -8.684033564167008, -9.684042348838389, -9.052098908335038,\n",
       "       -10.629917792859263, -8.268540220360256, -7.221282443741913,\n",
       "       -10.835569799761178, -3.3383065107372225, -8.690510126735012,\n",
       "       -2.880008231737317, -9.793632228859387, -8.01807854930547,\n",
       "       -5.527274318559685, -3.504413498124011], dtype=object)"
      ]
     },
     "execution_count": 82,
     "metadata": {},
     "output_type": "execute_result"
    }
   ],
   "source": [
    "minibatch[:, 2]"
   ]
  },
  {
   "cell_type": "code",
   "execution_count": 76,
   "metadata": {},
   "outputs": [
    {
     "data": {
      "text/plain": [
       "array([[-9.304452611223322],\n",
       "       [-10.277520192779392],\n",
       "       [-7.663879315635071],\n",
       "       [-4.122275127762492],\n",
       "       [-4.864194751165726],\n",
       "       [-6.69305600017488],\n",
       "       [-6.831440050666521],\n",
       "       [-6.662494135081751],\n",
       "       [-6.498908856451996],\n",
       "       [-10.490003068554401],\n",
       "       [-3.931196337876829],\n",
       "       [-6.50953319594097],\n",
       "       [-7.578516737689235],\n",
       "       [-5.718443140197207],\n",
       "       [-4.662344422291226],\n",
       "       [-7.430904266226308],\n",
       "       [-2.5485305567021013],\n",
       "       [-6.450659765574713],\n",
       "       [-8.684033564167008],\n",
       "       [-9.684042348838389],\n",
       "       [-9.052098908335038],\n",
       "       [-10.629917792859263],\n",
       "       [-8.268540220360256],\n",
       "       [-7.221282443741913],\n",
       "       [-10.835569799761178],\n",
       "       [-3.3383065107372225],\n",
       "       [-8.690510126735012],\n",
       "       [-2.880008231737317],\n",
       "       [-9.793632228859387],\n",
       "       [-8.01807854930547],\n",
       "       [-5.527274318559685],\n",
       "       [-3.504413498124011]], dtype=object)"
      ]
     },
     "execution_count": 76,
     "metadata": {},
     "output_type": "execute_result"
    }
   ],
   "source": [
    "np.expand_dims((minibatch[:, 2]), axis=1)"
   ]
  },
  {
   "cell_type": "code",
   "execution_count": null,
   "metadata": {},
   "outputs": [],
   "source": []
  }
 ],
 "metadata": {
  "kernelspec": {
   "display_name": "Python 3",
   "language": "python",
   "name": "python3"
  },
  "language_info": {
   "codemirror_mode": {
    "name": "ipython",
    "version": 3
   },
   "file_extension": ".py",
   "mimetype": "text/x-python",
   "name": "python",
   "nbconvert_exporter": "python",
   "pygments_lexer": "ipython3",
   "version": "3.6.10"
  }
 },
 "nbformat": 4,
 "nbformat_minor": 4
}
