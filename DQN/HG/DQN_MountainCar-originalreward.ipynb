{
 "cells": [
  {
   "cell_type": "code",
   "execution_count": 2,
   "metadata": {},
   "outputs": [],
   "source": [
    "ENV_LIST = ['Pendulum-v0', 'MountainCar-v0']\n",
    "ENV_IDX = 1"
   ]
  },
  {
   "cell_type": "code",
   "execution_count": 3,
   "metadata": {},
   "outputs": [],
   "source": [
    "import numpy as np\n",
    "import random\n",
    "from matplotlib import pyplot as plt\n",
    "\n",
    "import gym\n",
    "\n",
    "import torch\n",
    "import torch.nn as nn\n",
    "import torch.nn.functional as F\n",
    "import torch.optim as optim"
   ]
  },
  {
   "cell_type": "code",
   "execution_count": 4,
   "metadata": {},
   "outputs": [
    {
     "name": "stderr",
     "output_type": "stream",
     "text": [
      "/home/hogun/anaconda2/envs/gym/lib/python3.6/site-packages/gym/logger.py:30: UserWarning: \u001b[33mWARN: Box bound precision lowered by casting to float32\u001b[0m\n",
      "  warnings.warn(colorize('%s: %s'%('WARN', msg % args), 'yellow'))\n"
     ]
    }
   ],
   "source": [
    "env = gym.make(ENV_LIST[ENV_IDX])"
   ]
  },
  {
   "cell_type": "code",
   "execution_count": 5,
   "metadata": {},
   "outputs": [],
   "source": [
    "input_dim = 2\n",
    "action_dim = 3\n",
    "cuda = False"
   ]
  },
  {
   "cell_type": "code",
   "execution_count": 6,
   "metadata": {},
   "outputs": [],
   "source": [
    "action_list = [0, 1, 2]"
   ]
  },
  {
   "cell_type": "code",
   "execution_count": 7,
   "metadata": {},
   "outputs": [],
   "source": [
    "learning_rate = 1e-3\n",
    "\n",
    "max_buff_size = 5000\n",
    "batch_size = 64\n",
    "gamma = 0.99\n",
    "\n",
    "update_freq = 5000\n",
    "print_freq = 1000"
   ]
  },
  {
   "cell_type": "code",
   "execution_count": 8,
   "metadata": {},
   "outputs": [],
   "source": [
    "def get_action(q_net, inputs, epsilon, action_dim=3):\n",
    "    # randomly choose\n",
    "    if random.random() <= epsilon:\n",
    "        action_idx = random.randint(0, action_dim-1)\n",
    "    else:\n",
    "        q_value = q_net(inputs).tolist()\n",
    "        action_idx = np.argmax(q_value)\n",
    "    \n",
    "    return action_idx"
   ]
  },
  {
   "cell_type": "code",
   "execution_count": 9,
   "metadata": {},
   "outputs": [],
   "source": [
    "class QNet(nn.Module):\n",
    "    def __init__(self, input_dim=2, action_dim=3):\n",
    "        super(QNet, self).__init__()\n",
    "        self.fc1 = nn.Linear(2, 32)\n",
    "        self.fc2 = nn.Linear(32, 32)\n",
    "        self.fc3 = nn.Linear(32, action_dim)\n",
    "    \n",
    "    def forward(self, x):\n",
    "        x = F.relu(self.fc1(x))\n",
    "        x = F.relu(self.fc2(x))\n",
    "        x = self.fc3(x)\n",
    "        return x"
   ]
  },
  {
   "cell_type": "code",
   "execution_count": 10,
   "metadata": {},
   "outputs": [],
   "source": [
    "def calculate_loss(minibatch, gamma=0.99, cuda=False):\n",
    "    rewards = torch.tensor((minibatch[:, 2]).astype(np.float32))\n",
    "    done = torch.tensor((1-minibatch[:, 4]).astype(np.float32))\n",
    "    next_q = target_net(torch.tensor(np.concatenate(minibatch[:,3], axis=0).reshape(-1, input_dim), dtype=torch.float32))\n",
    "    next_q_max = next_q[torch.arange(batch_size), next_q.max(1)[1]]\n",
    "    y_target = rewards + gamma * done * next_q_max\n",
    "    #print('y target:', y_target)\n",
    "    \n",
    "    pre_obs = torch.tensor(np.concatenate(minibatch[:,0], axis=0).reshape(-1, input_dim), dtype=torch.float32)\n",
    "    if cuda:\n",
    "        y_target = y_target.cuda()\n",
    "        pre_obs = pre_obs.cuda()\n",
    "    \n",
    "    q_values = q_net(pre_obs)\n",
    "    actions = minibatch[:, 1].astype(np.int32)\n",
    "    max_q = q_values[torch.arange(batch_size), actions]\n",
    "    #print('q:', max_q)\n",
    "    loss = criterion(y_target, max_q)\n",
    "    \n",
    "    return loss"
   ]
  },
  {
   "cell_type": "code",
   "execution_count": 11,
   "metadata": {},
   "outputs": [
    {
     "name": "stdout",
     "output_type": "stream",
     "text": [
      "1000 step average loss: 8.263761638373136\n",
      "2000 step average loss: 14.125048108160495\n",
      "3000 step average loss: 16.013843240343036\n",
      "4000 step average loss: 15.519357751004398\n",
      "5000 step average loss: 15.742225040450693\n",
      "6000 step average loss: 14.066208597369492\n",
      "7000 step average loss: 13.665850993856788\n",
      "8000 step average loss: 14.040049464702607\n",
      "9000 step average loss: 16.126779797207565\n",
      "10000 step average loss: 14.629440488763153\n",
      "11000 step average loss: 12.065963957123458\n",
      "12000 step average loss: 11.685868828460574\n",
      "13000 step average loss: 11.828629126913846\n",
      "14000 step average loss: 11.048262571051717\n",
      "15000 step average loss: 11.428589317001402\n",
      "16000 step average loss: 11.461890196070074\n",
      "17000 step average loss: 11.526226204946637\n",
      "18000 step average loss: 10.53323500327766\n",
      "19000 step average loss: 8.428630724817515\n",
      "20000 step average loss: 8.496733719885349\n",
      "21000 step average loss: 7.6715832110494375\n",
      "22000 step average loss: 7.05539038617909\n",
      "23000 step average loss: 6.488373170495033\n",
      "24000 step average loss: 5.931576492995024\n",
      "25000 step average loss: 5.7141633524894715\n",
      "26000 step average loss: 5.066480827748776\n",
      "27000 step average loss: 4.423837056577206\n",
      "28000 step average loss: 3.3334637819826605\n",
      "29000 step average loss: 2.32426494666934\n",
      "30000 step average loss: 3.4418420691043137\n",
      "31000 step average loss: 3.1974455214738846\n",
      "32000 step average loss: 3.438589859366417\n",
      "33000 step average loss: 3.5164991539418695\n",
      "34000 step average loss: 2.977384568914771\n",
      "35000 step average loss: 1.1887574015855789\n",
      "36000 step average loss: 0.7606030033826828\n",
      "37000 step average loss: 0.9860791662335395\n",
      "38000 step average loss: 0.8544605836421252\n",
      "39000 step average loss: 1.2416121875196695\n",
      "40000 step average loss: 1.3788800570070743\n",
      "41000 step average loss: 1.8716492635011672\n",
      "42000 step average loss: 1.8130166597515345\n",
      "43000 step average loss: 2.200078806832433\n",
      "44000 step average loss: 1.2560703931152821\n",
      "45000 step average loss: 2.284101205840707\n",
      "46000 step average loss: 2.048917211189866\n",
      "47000 step average loss: 1.6340406388044357\n",
      "48000 step average loss: 1.713473748475313\n",
      "49000 step average loss: 2.0798620017021894\n",
      "50000 step average loss: 1.4277412173599004\n",
      "51000 step average loss: 1.1819560590684415\n",
      "52000 step average loss: 1.0523015637099742\n",
      "53000 step average loss: 0.6785590448528528\n",
      "54000 step average loss: 0.6119134725928307\n",
      "55000 step average loss: 0.6678244889080525\n",
      "56000 step average loss: 0.8270396009385586\n",
      "57000 step average loss: 0.8531773910075426\n",
      "58000 step average loss: 0.8464400752186775\n",
      "59000 step average loss: 1.0066059700399637\n",
      "60000 step average loss: 0.8930226752907038\n",
      "61000 step average loss: 0.8911153198182583\n",
      "62000 step average loss: 1.1769830377548933\n",
      "63000 step average loss: 1.0698897242695093\n",
      "64000 step average loss: 1.102453459560871\n",
      "65000 step average loss: 1.0636379704177379\n",
      "66000 step average loss: 1.1493634260445833\n",
      "67000 step average loss: 0.9210915633440018\n",
      "68000 step average loss: 0.8466934209913015\n",
      "69000 step average loss: 1.1981000314056873\n",
      "70000 step average loss: 2.0847175175249575\n",
      "71000 step average loss: 1.4922017056047916\n",
      "72000 step average loss: 1.4490791840255262\n",
      "73000 step average loss: 1.5786182156950235\n",
      "74000 step average loss: 1.3824723025709391\n",
      "75000 step average loss: 1.606912266150117\n",
      "76000 step average loss: 3.0326226834207772\n",
      "77000 step average loss: 3.913686564683914\n",
      "78000 step average loss: 3.4960748568177222\n",
      "79000 step average loss: 3.5183148807287217\n",
      "80000 step average loss: 3.1574883484691383\n",
      "81000 step average loss: 2.453132476747036\n",
      "82000 step average loss: 1.7835245891660452\n",
      "83000 step average loss: 2.0136245961636305\n",
      "84000 step average loss: 1.9704093217402696\n",
      "85000 step average loss: 1.6877653592675925\n",
      "86000 step average loss: 1.7123561450392009\n",
      "87000 step average loss: 1.4678721166104078\n",
      "88000 step average loss: 1.1169212912321091\n",
      "89000 step average loss: 1.4676303272545337\n",
      "90000 step average loss: 2.7215048592984674\n",
      "91000 step average loss: 2.86123776717484\n",
      "92000 step average loss: 2.6150657116770746\n",
      "93000 step average loss: 2.845692982301116\n",
      "94000 step average loss: 2.631901075050235\n",
      "95000 step average loss: 2.1726416926383973\n",
      "96000 step average loss: 1.6378363280892372\n",
      "97000 step average loss: 1.554417392849922\n",
      "98000 step average loss: 1.4678935933858157\n",
      "99000 step average loss: 1.629770168721676\n",
      "100000 step average loss: 1.4567885132730007\n"
     ]
    }
   ],
   "source": [
    "q_net = QNet(input_dim, action_dim)\n",
    "target_net = QNet(input_dim, action_dim)\n",
    "\n",
    "if cuda:\n",
    "    q_net = q_net.cuda()\n",
    "\n",
    "target_net.load_state_dict(q_net.state_dict())\n",
    "criterion = nn.MSELoss(reduction='mean')\n",
    "#optimizer = optim.SGD(q_net.parameters(), lr=1e-6, momentum=0.95)\n",
    "optimizer = optim.Adam(q_net.parameters(), lr=learning_rate)\n",
    "\n",
    "epsilon = 1.0\n",
    "min_epsilon = 0.01\n",
    "\n",
    "replay_buffer = []\n",
    "log_returns = []\n",
    "log_average_loss = []\n",
    "log_minibatch_loss = []\n",
    "\n",
    "done = False\n",
    "t_step = 0\n",
    "ridx = 0\n",
    "episode_reward = 0\n",
    "running_loss = 0\n",
    "observation = env.reset()\n",
    "\n",
    "while t_step<100000:\n",
    "    #env.render()\n",
    "    pre_obs = observation\n",
    "    input_state = torch.tensor([observation], dtype=torch.float32)\n",
    "    if cuda:\n",
    "        input_state = input_state.cuda()\n",
    "    action_idx = get_action(q_net, input_state, epsilon, action_dim)\n",
    "    observation, reward, done, info = env.step(action_list[action_idx])\n",
    "    \n",
    "#     if observation[0] >= 0.5:\n",
    "#         reward += 10\n",
    "    \n",
    "    epsilon = max(0.999*epsilon, min_epsilon)\n",
    "\n",
    "    episode_reward += reward\n",
    "    if done:\n",
    "        #print('new episode.')\n",
    "        log_returns.append(episode_reward)\n",
    "        episode_reward = 0\n",
    "        observation = env.reset()\n",
    "\n",
    "    if len(replay_buffer)<max_buff_size:\n",
    "        replay_buffer.append([pre_obs, action_idx, reward, observation, done])\n",
    "        if len(replay_buffer)<batch_size:\n",
    "            continue\n",
    "    else:\n",
    "        replay_buffer[ridx%max_buff_size] = [pre_obs, action_idx, reward, observation, done]\n",
    "        ridx += 1\n",
    "\n",
    "    minibatch = np.array(random.sample(replay_buffer, batch_size))\n",
    "    loss = calculate_loss(minibatch).cpu()\n",
    "    running_loss += loss.data.numpy()\n",
    "\n",
    "    optimizer.zero_grad()\n",
    "    loss.backward()\n",
    "    optimizer.step()\n",
    "\n",
    "    if (t_step+1)%print_freq==0:\n",
    "        print(t_step+1, 'step average loss:', running_loss/print_freq)\n",
    "        log_average_loss.append(running_loss/print_freq)\n",
    "        running_loss = 0\n",
    "    log_minibatch_loss.append(loss.data.numpy())\n",
    "\n",
    "    if (t_step+1)%update_freq:\n",
    "        target_net.load_state_dict(q_net.state_dict())\n",
    "\n",
    "    t_step += 1"
   ]
  },
  {
   "cell_type": "code",
   "execution_count": 12,
   "metadata": {},
   "outputs": [
    {
     "data": {
      "image/png": "[encoded data removed]",
      "text/plain": [
       "<Figure size 432x288 with 3 Axes>"
      ]
     },
     "metadata": {
      "needs_background": "light"
     },
     "output_type": "display_data"
    }
   ],
   "source": [
    "labels = ['Episode Returns', 'Average Loss', 'Minibatch Loss']\n",
    "colors = ['red', 'blue', 'green']\n",
    "\n",
    "fig, axes = plt.subplots(3)\n",
    "axes[0].plot(log_returns, color=colors[0])\n",
    "axes[1].plot(log_average_loss, color=colors[1])\n",
    "axes[2].plot(log_minibatch_loss, color=colors[2])\n",
    "for i in range(3):\n",
    "    axes[i].set_title(labels[i])"
   ]
  },
  {
   "cell_type": "code",
   "execution_count": null,
   "metadata": {},
   "outputs": [],
   "source": []
  },
  {
   "cell_type": "code",
   "execution_count": null,
   "metadata": {},
   "outputs": [],
   "source": []
  },
  {
   "cell_type": "code",
   "execution_count": null,
   "metadata": {},
   "outputs": [],
   "source": []
  }
 ],
 "metadata": {
  "kernelspec": {
   "display_name": "Python 3",
   "language": "python",
   "name": "python3"
  },
  "language_info": {
   "codemirror_mode": {
    "name": "ipython",
    "version": 3
   },
   "file_extension": ".py",
   "mimetype": "text/x-python",
   "name": "python",
   "nbconvert_exporter": "python",
   "pygments_lexer": "ipython3",
   "version": "3.6.10"
  }
 },
 "nbformat": 4,
 "nbformat_minor": 4
}
