{
 "cells": [
  {
   "cell_type": "code",
   "execution_count": 1,
   "metadata": {},
   "outputs": [],
   "source": [
    "ENV_LIST = ['Pendulum-v0', 'MountainCar-v0']\n",
    "ENV_IDX = 1"
   ]
  },
  {
   "cell_type": "code",
   "execution_count": 2,
   "metadata": {},
   "outputs": [],
   "source": [
    "import numpy as np\n",
    "import random\n",
    "from matplotlib import pyplot as plt\n",
    "\n",
    "import gym\n",
    "\n",
    "import torch\n",
    "import torch.nn as nn\n",
    "import torch.nn.functional as F\n",
    "import torch.optim as optim"
   ]
  },
  {
   "cell_type": "code",
   "execution_count": 3,
   "metadata": {},
   "outputs": [],
   "source": [
    "env = gym.make(ENV_LIST[ENV_IDX])"
   ]
  },
  {
   "cell_type": "code",
   "execution_count": 4,
   "metadata": {},
   "outputs": [],
   "source": [
    "input_dim = 2\n",
    "action_dim = 3"
   ]
  },
  {
   "cell_type": "code",
   "execution_count": 5,
   "metadata": {},
   "outputs": [],
   "source": [
    "action_list = [0, 1, 2]"
   ]
  },
  {
   "cell_type": "code",
   "execution_count": 6,
   "metadata": {},
   "outputs": [],
   "source": [
    "learning_rate = 1e-2\n",
    "\n",
    "max_buff_size = 5000\n",
    "batch_size = 64\n",
    "gamma = 0.99\n",
    "\n",
    "update_freq = 2000\n",
    "print_freq = 1000"
   ]
  },
  {
   "cell_type": "code",
   "execution_count": 7,
   "metadata": {},
   "outputs": [],
   "source": [
    "def get_action(q_net, inputs, epsilon, action_dim=3):\n",
    "    # randomly choose\n",
    "    if random.random() <= epsilon:\n",
    "        action_idx = random.randint(0, action_dim-1)\n",
    "    else:\n",
    "        q_value = q_net(inputs).tolist()\n",
    "        action_idx = np.argmax(q_value)\n",
    "    \n",
    "    return action_idx"
   ]
  },
  {
   "cell_type": "code",
   "execution_count": 8,
   "metadata": {},
   "outputs": [],
   "source": [
    "class QNet(nn.Module):\n",
    "    def __init__(self, input_dim=2, action_dim=3):\n",
    "        super(QNet, self).__init__()\n",
    "        self.fc1 = nn.Linear(2, 32)\n",
    "        self.fc2 = nn.Linear(32, 32)\n",
    "        self.fc3 = nn.Linear(32, action_dim)\n",
    "    \n",
    "    def forward(self, x):\n",
    "        x = F.relu(self.fc1(x))\n",
    "        x = F.relu(self.fc2(x))\n",
    "        x = self.fc3(x)\n",
    "        return x"
   ]
  },
  {
   "cell_type": "code",
   "execution_count": 9,
   "metadata": {},
   "outputs": [],
   "source": [
    "def calculate_loss(minibatch, gamma=0.99):\n",
    "    rewards = torch.tensor((minibatch[:, 2]).astype(np.float32))\n",
    "    done = torch.tensor((1-minibatch[:, 4]).astype(np.float32))\n",
    "    next_q = target_net(torch.tensor(np.concatenate(minibatch[:,3], axis=0).reshape(-1, input_dim), dtype=torch.float32))\n",
    "    next_q_max = next_q[torch.arange(batch_size), next_q.max(1)[1]]\n",
    "    y_target = rewards + gamma * done * next_q_max\n",
    "    y_target = y_target.cuda()\n",
    "    #print('y target:', y_target)\n",
    "    pre_obs = torch.tensor(np.concatenate(minibatch[:,0], axis=0).reshape(-1, input_dim), dtype=torch.float32).cuda()\n",
    "    q_values = q_net(pre_obs)\n",
    "    actions = minibatch[:, 1].astype(np.int32)\n",
    "    max_q = q_values[torch.arange(batch_size), actions]\n",
    "    #print('q:', max_q)\n",
    "    loss = criterion(y_target, max_q)\n",
    "    \n",
    "    return loss"
   ]
  },
  {
   "cell_type": "code",
   "execution_count": 10,
   "metadata": {},
   "outputs": [
    {
     "name": "stdout",
     "output_type": "stream",
     "text": [
      "1000 step average loss: 7.2647752222232524\n",
      "2000 step average loss: 8.360223192766309\n",
      "3000 step average loss: 10.405270958703012\n",
      "4000 step average loss: 9.622644641246646\n",
      "5000 step average loss: 10.301476026318968\n",
      "6000 step average loss: 9.740901276361198\n",
      "7000 step average loss: 9.520965336941183\n",
      "8000 step average loss: 9.12498227352649\n",
      "9000 step average loss: 9.341909836180507\n",
      "10000 step average loss: 8.73525046287477\n",
      "11000 step average loss: 9.569350675299763\n",
      "12000 step average loss: 9.358060963712633\n",
      "13000 step average loss: 9.339247886471451\n",
      "14000 step average loss: 7.871679282940924\n",
      "15000 step average loss: 9.376198814600706\n",
      "16000 step average loss: 10.370317781694233\n",
      "17000 step average loss: 10.389864142931998\n",
      "18000 step average loss: 10.422223273418844\n",
      "19000 step average loss: 9.464732533026487\n",
      "20000 step average loss: 9.015759300380946\n",
      "21000 step average loss: 8.081631376937032\n",
      "22000 step average loss: 7.2253491284772755\n",
      "23000 step average loss: 5.39302298374474\n",
      "24000 step average loss: 5.252650472998619\n",
      "25000 step average loss: 3.3463952416479588\n",
      "26000 step average loss: 2.891922158315778\n",
      "27000 step average loss: 2.327541909068823\n",
      "28000 step average loss: 2.281433043807745\n",
      "29000 step average loss: 2.372760938003659\n",
      "30000 step average loss: 3.2633724390119316\n",
      "31000 step average loss: 3.815231530547142\n",
      "32000 step average loss: 4.604144944265485\n",
      "33000 step average loss: 3.912573719024658\n",
      "34000 step average loss: 3.338781980216503\n",
      "35000 step average loss: 2.733645542874932\n",
      "36000 step average loss: 2.761857535153627\n",
      "37000 step average loss: 2.4088555441349744\n",
      "38000 step average loss: 2.874178929448128\n",
      "39000 step average loss: 2.8021673838198184\n",
      "40000 step average loss: 3.9450562260150908\n",
      "41000 step average loss: 4.9529087601751085\n",
      "42000 step average loss: 3.7131180545687674\n",
      "43000 step average loss: 4.669726274102926\n",
      "44000 step average loss: 6.602629259854555\n",
      "45000 step average loss: 7.449092199146747\n",
      "46000 step average loss: 27.034745565235614\n",
      "47000 step average loss: 4.006876318097115\n",
      "48000 step average loss: 4.956250185191632\n",
      "49000 step average loss: 4.38485937038064\n",
      "50000 step average loss: 4.488747970849276\n"
     ]
    }
   ],
   "source": [
    "q_net = QNet(input_dim, action_dim)\n",
    "target_net = QNet(input_dim, action_dim)\n",
    "\n",
    "q_net.cuda()\n",
    "\n",
    "target_net.load_state_dict(q_net.state_dict())\n",
    "criterion = nn.MSELoss(reduction='mean')\n",
    "#optimizer = optim.SGD(q_net.parameters(), lr=1e-6, momentum=0.95)\n",
    "optimizer = optim.Adam(q_net.parameters(), lr=learning_rate)\n",
    "\n",
    "epsilon = 1.0\n",
    "min_epsilon = 0.01\n",
    "\n",
    "replay_buffer = []\n",
    "log_returns = []\n",
    "log_average_loss = []\n",
    "log_minibatch_loss = []\n",
    "\n",
    "done = False\n",
    "t_step = 0\n",
    "ridx = 0\n",
    "episode_reward = 0\n",
    "running_loss = 0\n",
    "observation = env.reset()\n",
    "\n",
    "while t_step<50000:\n",
    "    #env.render()\n",
    "    pre_obs = observation\n",
    "    input_state = torch.tensor([observation], dtype=torch.float32).cuda()\n",
    "    action_idx = get_action(q_net, input_state, epsilon, action_dim)\n",
    "    observation, reward, done, info = env.step(action_list[action_idx])\n",
    "    if observation[0] >= 0.5:\n",
    "        reward += 10\n",
    "    \n",
    "    epsilon = max(0.999*epsilon, min_epsilon)\n",
    "\n",
    "    episode_reward += reward\n",
    "    if done:\n",
    "        #print('new episode.')\n",
    "        log_returns.append(episode_reward)\n",
    "        episode_reward = 0\n",
    "        observation = env.reset()\n",
    "\n",
    "    if len(replay_buffer)<max_buff_size:\n",
    "        replay_buffer.append([pre_obs, action_idx, reward, observation, done])\n",
    "        if len(replay_buffer)<batch_size:\n",
    "            continue\n",
    "    else:\n",
    "        replay_buffer[ridx%max_buff_size] = [pre_obs, action_idx, reward, observation, done]\n",
    "        ridx += 1\n",
    "\n",
    "    minibatch = np.array(random.sample(replay_buffer, batch_size))\n",
    "    loss = calculate_loss(minibatch).cpu()\n",
    "    running_loss += loss.data.numpy()\n",
    "\n",
    "    optimizer.zero_grad()\n",
    "    loss.backward()\n",
    "    optimizer.step()\n",
    "\n",
    "    if (t_step+1)%print_freq==0:\n",
    "        print(t_step+1, 'step average loss:', running_loss/print_freq)\n",
    "        log_average_loss.append(running_loss/print_freq)\n",
    "        running_loss = 0\n",
    "    log_minibatch_loss.append(loss.data.numpy())\n",
    "\n",
    "    if (t_step+1)%update_freq:\n",
    "        target_net.load_state_dict(q_net.state_dict())\n",
    "\n",
    "    t_step += 1"
   ]
  },
  {
   "cell_type": "code",
   "execution_count": 12,
   "metadata": {},
   "outputs": [
    {
     "data": {
      "image/png": "[encoded data removed]",
      "text/plain": [
       "<Figure size 432x288 with 3 Axes>"
      ]
     },
     "metadata": {
      "needs_background": "light"
     },
     "output_type": "display_data"
    }
   ],
   "source": [
    "labels = ['Episode Returns', 'Average Loss', 'Minibatch Loss']\n",
    "colors = ['red', 'blue', 'green']\n",
    "\n",
    "fig, axes = plt.subplots(3)\n",
    "axes[0].plot(log_returns, color=colors[0])\n",
    "axes[1].plot(log_average_loss, color=colors[1])\n",
    "axes[2].plot(log_minibatch_loss, color=colors[2])\n",
    "for i in range(3):\n",
    "    axes[i].set_title(labels[i])"
   ]
  }
 ],
 "metadata": {
  "kernelspec": {
   "display_name": "Python 3",
   "language": "python",
   "name": "python3"
  },
  "language_info": {
   "codemirror_mode": {
    "name": "ipython",
    "version": 3
   },
   "file_extension": ".py",
   "mimetype": "text/x-python",
   "name": "python",
   "nbconvert_exporter": "python",
   "pygments_lexer": "ipython3",
   "version": "3.6.0"
  }
 },
 "nbformat": 4,
 "nbformat_minor": 4
}
